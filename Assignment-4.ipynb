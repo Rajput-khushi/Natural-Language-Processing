{
 "cells": [
  {
   "cell_type": "code",
   "execution_count": 2,
   "id": "edf3633b",
   "metadata": {},
   "outputs": [
    {
     "name": "stderr",
     "output_type": "stream",
     "text": [
      "[nltk_data] Downloading package punkt to\n",
      "[nltk_data]     C:\\Users\\rajpu\\AppData\\Roaming\\nltk_data...\n",
      "[nltk_data]   Package punkt is already up-to-date!\n",
      "[nltk_data] Downloading package stopwords to\n",
      "[nltk_data]     C:\\Users\\rajpu\\AppData\\Roaming\\nltk_data...\n",
      "[nltk_data]   Package stopwords is already up-to-date!\n",
      "[nltk_data] Downloading package wordnet to\n",
      "[nltk_data]     C:\\Users\\rajpu\\AppData\\Roaming\\nltk_data...\n",
      "[nltk_data]   Package wordnet is already up-to-date!\n"
     ]
    },
    {
     "data": {
      "text/plain": [
       "True"
      ]
     },
     "execution_count": 2,
     "metadata": {},
     "output_type": "execute_result"
    }
   ],
   "source": [
    "import nltk\n",
    "from nltk.tokenize import word_tokenize, sent_tokenize\n",
    "from nltk.corpus import stopwords\n",
    "from nltk.stem import PorterStemmer, LancasterStemmer, WordNetLemmatizer\n",
    "import string\n",
    "\n",
    "nltk.download('punkt')\n",
    "nltk.download('stopwords')\n",
    "nltk.download('wordnet')"
   ]
  },
  {
   "cell_type": "code",
   "execution_count": 3,
   "id": "0b411389",
   "metadata": {},
   "outputs": [],
   "source": [
    "# 1. Tokenize a simple sentence\n",
    "sentence1 = \"Natural Language Processing with Python is fun.\"\n",
    "tokens1 = word_tokenize(sentence1)"
   ]
  },
  {
   "cell_type": "code",
   "execution_count": 4,
   "id": "c8fd5b22",
   "metadata": {},
   "outputs": [],
   "source": [
    "# 2. Remove punctuation from a sentence\n",
    "sentence2 = \"Hello there! How's the weather today?\"\n",
    "table = str.maketrans('', '', string.punctuation)\n",
    "cleaned_sentence2 = sentence2.translate(table)"
   ]
  },
  {
   "cell_type": "code",
   "execution_count": 5,
   "id": "32938203",
   "metadata": {},
   "outputs": [],
   "source": [
    "# 3. Remove stopwords from a sentence\n",
    "sentence3 = \"This is a simple sentence for stopword removal.\"\n",
    "stop_words = set(stopwords.words('english'))\n",
    "tokens3 = [word for word in word_tokenize(sentence3) if word.lower() not in stop_words]"
   ]
  },
  {
   "cell_type": "code",
   "execution_count": 6,
   "id": "643423f6",
   "metadata": {},
   "outputs": [],
   "source": [
    "# 4. Perform stemming using PorterStemmer\n",
    "sentence4 = \"The striped bats are hanging on their feet for best.\"\n",
    "ps = PorterStemmer()\n",
    "stemmed_words4 = [ps.stem(word) for word in word_tokenize(sentence4)]"
   ]
  },
  {
   "cell_type": "code",
   "execution_count": 7,
   "id": "d9d37028",
   "metadata": {},
   "outputs": [],
   "source": [
    "# 5. Perform lemmatization using WordNetLemmatizer\n",
    "sentence5 = \"The geese are flying south for the winter.\"\n",
    "lemmatizer = WordNetLemmatizer()\n",
    "lemmatized_words5 = [lemmatizer.lemmatize(word) for word in word_tokenize(sentence5)]"
   ]
  },
  {
   "cell_type": "code",
   "execution_count": 8,
   "id": "0f64dc54",
   "metadata": {},
   "outputs": [],
   "source": [
    "# 6. Convert text to lowercase and remove punctuation\n",
    "sentence6 = \"Hello, World! NLP with Python.\"\n",
    "lowercase_cleaned6 = sentence6.translate(table).lower()"
   ]
  },
  {
   "cell_type": "code",
   "execution_count": 9,
   "id": "a52d7759",
   "metadata": {},
   "outputs": [],
   "source": [
    "# 7. Tokenize a sentence into sentences\n",
    "sentence7 = \"Hello World. This is NLTK. Let's explore NLP!\"\n",
    "sentences7 = sent_tokenize(sentence7)"
   ]
  },
  {
   "cell_type": "code",
   "execution_count": 10,
   "id": "2b016f04",
   "metadata": {},
   "outputs": [],
   "source": [
    "# 8. Stem words in a sentence using LancasterStemmer\n",
    "sentence8 = \"Loving the experience of learning NLTK\"\n",
    "lancaster_stemmer = LancasterStemmer()\n",
    "stemmed_words8 = [lancaster_stemmer.stem(word) for word in word_tokenize(sentence8)]"
   ]
  },
  {
   "cell_type": "code",
   "execution_count": 11,
   "id": "76381283",
   "metadata": {},
   "outputs": [],
   "source": [
    "# 9. Remove both stopwords and punctuation from a sentence\n",
    "sentence9 = \"This is a test sentence, with stopwords and punctuation!\"\n",
    "cleaned_tokens9 = [word for word in word_tokenize(sentence9) if word.lower() not in stop_words and word not in string.punctuation]"
   ]
  },
  {
   "cell_type": "code",
   "execution_count": 13,
   "id": "09b1291a",
   "metadata": {},
   "outputs": [
    {
     "name": "stderr",
     "output_type": "stream",
     "text": [
      "[nltk_data] Downloading package averaged_perceptron_tagger to\n",
      "[nltk_data]     C:\\Users\\rajpu\\AppData\\Roaming\\nltk_data...\n",
      "[nltk_data]   Unzipping taggers\\averaged_perceptron_tagger.zip.\n"
     ]
    },
    {
     "name": "stdout",
     "output_type": "stream",
     "text": [
      "[('The', 'DT'), ('striped', 'JJ'), ('bat', 'NN'), ('are', 'VBP'), ('hanging', 'VBG'), ('on', 'IN'), ('their', 'PRP$'), ('foot', 'NN'), ('.', '.')]\n"
     ]
    },
    {
     "name": "stderr",
     "output_type": "stream",
     "text": [
      "[nltk_data] Downloading package averaged_perceptron_tagger to\n",
      "[nltk_data]     C:\\Users\\rajpu\\AppData\\Roaming\\nltk_data...\n",
      "[nltk_data]   Package averaged_perceptron_tagger is already up-to-\n",
      "[nltk_data]       date!\n"
     ]
    }
   ],
   "source": [
    " import nltk\n",
    "nltk.download('averaged_perceptron_tagger')\n",
    "\n",
    "# word tokenize\n",
    "from nltk.tokenize import word_tokenize\n",
    "var = \"The striped bats are hanging on their feet.\"\n",
    "tokenize_var = word_tokenize(var)\n",
    "\n",
    "# lemmatize\n",
    "from nltk.stem import WordNetLemmatizer\n",
    "wl = WordNetLemmatizer()\n",
    "\n",
    "from nltk.tokenize import word_tokenize\n",
    "a = [wl.lemmatize(i) for i in tokenize_var]\n",
    "\n",
    "\n",
    "from nltk import pos_tag\n",
    "p = pos_tag(a)\n",
    "\n",
    "import nltk\n",
    "nltk.download('averaged_perceptron_tagger')\n",
    "\n",
    "print(p)\n",
    "\n",
    "## optional step using looping\n",
    "# for word, tag in p:\n",
    "#     print(word, tag)"
   ]
  },
  {
   "cell_type": "code",
   "execution_count": 14,
   "id": "0a547076",
   "metadata": {},
   "outputs": [],
   "source": [
    "# 11. Tokenize and remove stopwords, punctuation, and perform stemming\n",
    "sentence11 = \"Running through the forest, the fox is faster.\"\n",
    "tokens11 = [ps.stem(word) for word in word_tokenize(sentence11) if word.lower() not in stop_words and word not in string.punctuation]"
   ]
  },
  {
   "cell_type": "code",
   "execution_count": 15,
   "id": "9d25664e",
   "metadata": {},
   "outputs": [],
   "source": [
    "# 12. Count stopwords in a sentence\n",
    "sentence12 = \"This is an example sentence for counting stopwords.\"\n",
    "stopword_count12 = sum(1 for word in word_tokenize(sentence12) if word.lower() in stop_words)"
   ]
  },
  {
   "cell_type": "code",
   "execution_count": 16,
   "id": "1d0943d5",
   "metadata": {},
   "outputs": [],
   "source": [
    "# 13. Perform stemming and remove punctuation using RegexTokenizer (not available directly)\n",
    "import re\n",
    "regex_pattern13 = re.compile(r'\\w+')\n",
    "cleaned_stemmed13 = [ps.stem(word) for word in regex_pattern13.findall(sentence12)]"
   ]
  },
  {
   "cell_type": "code",
   "execution_count": 17,
   "id": "404038a7",
   "metadata": {},
   "outputs": [],
   "source": [
    "# 14. Remove punctuation using regex and NLTK\n",
    "sentence14 = \"Punctuation removal with regex in NLP!\"\n",
    "cleaned_sentence14 = regex_pattern13.findall(sentence14)"
   ]
  },
  {
   "cell_type": "code",
   "execution_count": 21,
   "id": "028f069e",
   "metadata": {},
   "outputs": [
    {
     "data": {
      "text/plain": [
       "['The', 'dogs', 'are', 'barking', 'loudly', '.']"
      ]
     },
     "execution_count": 21,
     "metadata": {},
     "output_type": "execute_result"
    }
   ],
   "source": [
    "# 15. \n",
    "# Step 1. word tokenize\n",
    "\n",
    "var = \"The dogs are barking loudly.\"\n",
    "\n",
    "from nltk.tokenize import word_tokenize\n",
    "tokenize_var = word_tokenize(var)\n",
    "tokenize_var"
   ]
  },
  {
   "cell_type": "code",
   "execution_count": 22,
   "id": "d8783e6c",
   "metadata": {},
   "outputs": [
    {
     "name": "stderr",
     "output_type": "stream",
     "text": [
      "[nltk_data] Downloading package stopwords to\n",
      "[nltk_data]     C:\\Users\\rajpu\\AppData\\Roaming\\nltk_data...\n",
      "[nltk_data]   Package stopwords is already up-to-date!\n"
     ]
    },
    {
     "name": "stdout",
     "output_type": "stream",
     "text": [
      "The\n",
      "dog\n",
      "barking\n",
      "loudly\n",
      ".\n"
     ]
    }
   ],
   "source": [
    "# Step 2. stopwords\n",
    "from nltk.corpus import stopwords\n",
    "\n",
    "## avoiding look up error\n",
    "import nltk\n",
    "nltk.download('stopwords')\n",
    "\n",
    "stop = stopwords.words(\"english\")\n",
    "\n",
    "# step 3 lemmatize\n",
    "from nltk.stem import WordNetLemmatizer\n",
    "wl = WordNetLemmatizer()\n",
    "\n",
    "# getting the result\n",
    "for i in tokenize_var:\n",
    "    if i not in stop:\n",
    "        lemmatizer = wl.lemmatize(i) # step 3 lemmatize\n",
    "        print(lemmatizer)\n",
    "\n",
    "# Note: Full stop is a punctuation not stop word.\n",
    "# so it is showing in the output"
   ]
  },
  {
   "cell_type": "code",
   "execution_count": null,
   "id": "0dcb52e5",
   "metadata": {},
   "outputs": [],
   "source": []
  }
 ],
 "metadata": {
  "kernelspec": {
   "display_name": "Python 3 (ipykernel)",
   "language": "python",
   "name": "python3"
  },
  "language_info": {
   "codemirror_mode": {
    "name": "ipython",
    "version": 3
   },
   "file_extension": ".py",
   "mimetype": "text/x-python",
   "name": "python",
   "nbconvert_exporter": "python",
   "pygments_lexer": "ipython3",
   "version": "3.11.5"
  }
 },
 "nbformat": 4,
 "nbformat_minor": 5
}
